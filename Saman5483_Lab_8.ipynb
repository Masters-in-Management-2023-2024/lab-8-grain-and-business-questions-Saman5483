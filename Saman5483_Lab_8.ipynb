{
  "cells": [
    {
      "cell_type": "markdown",
      "metadata": {
        "id": "u1JdSg8o5Laa"
      },
      "source": [
        "# Diamond Company Analytics Challenge\n",
        "\n",
        "**Time:** 35 minutes\n",
        "\n",
        "**Scenario:** You are the new data analyst at a prestigious diamond company. The CEO has called an urgent meeting and needs answers to critical business questions about the inventory.\n",
        "\n",
        "**Your Mission:** Analyze the diamond inventory data and provide insights to guide strategic decisions."
      ]
    },
    {
      "cell_type": "code",
      "execution_count": 6,
      "metadata": {
        "colab": {
          "base_uri": "https://localhost:8080/"
        },
        "id": "ngYphkQG5Lab",
        "outputId": "e4641c7a-2e62-4fed-9dcd-b03e0412c0d6"
      },
      "outputs": [
        {
          "output_type": "stream",
          "name": "stdout",
          "text": [
            "Loading diamonds dataset...\n",
            "Dataset loaded successfully!\n"
          ]
        }
      ],
      "source": [
        "import polars as pl\n",
        "\n",
        "# Load the diamonds dataset\n",
        "print(\"Loading diamonds dataset...\")\n",
        "df = pl.read_csv('https://raw.githubusercontent.com/pycaret/pycaret/master/datasets/diamond.csv')\n",
        "print(\"Dataset loaded successfully!\")"
      ]
    },
    {
      "cell_type": "markdown",
      "metadata": {
        "id": "jtslb1_b5Lac"
      },
      "source": [
        "## Section 1: Initial Inventory Assessment (5 minutes)\n",
        "\n",
        "The CEO walks in: \"Before we dive into specifics, I need to understand what we're working with. Give me the basics about our inventory database.\""
      ]
    },
    {
      "cell_type": "markdown",
      "metadata": {
        "id": "OFI2b5ji5Lac"
      },
      "source": [
        "### Question 1: \"How extensive is our inventory database?\"\n",
        "\n",
        "The CEO needs to know the scale of data you're analyzing."
      ]
    },
    {
      "cell_type": "code",
      "execution_count": null,
      "metadata": {
        "colab": {
          "base_uri": "https://localhost:8080/",
          "height": 273
        },
        "id": "z-VRybRj5Lac",
        "outputId": "41db27a0-ab14-44e3-c5a7-833e76121613"
      },
      "outputs": [
        {
          "output_type": "stream",
          "name": "stdout",
          "text": [
            "Shape: (6000, 8)\n"
          ]
        },
        {
          "output_type": "execute_result",
          "data": {
            "text/plain": [
              "shape: (5, 8)\n",
              "┌──────────────┬───────┬───────┬─────────┬────────┬──────────┬────────┬───────┐\n",
              "│ Carat Weight ┆ Cut   ┆ Color ┆ Clarity ┆ Polish ┆ Symmetry ┆ Report ┆ Price │\n",
              "│ ---          ┆ ---   ┆ ---   ┆ ---     ┆ ---    ┆ ---      ┆ ---    ┆ ---   │\n",
              "│ f64          ┆ str   ┆ str   ┆ str     ┆ str    ┆ str      ┆ str    ┆ i64   │\n",
              "╞══════════════╪═══════╪═══════╪═════════╪════════╪══════════╪════════╪═══════╡\n",
              "│ 1.1          ┆ Ideal ┆ H     ┆ SI1     ┆ VG     ┆ EX       ┆ GIA    ┆ 5169  │\n",
              "│ 0.83         ┆ Ideal ┆ H     ┆ VS1     ┆ ID     ┆ ID       ┆ AGSL   ┆ 3470  │\n",
              "│ 0.85         ┆ Ideal ┆ H     ┆ SI1     ┆ EX     ┆ EX       ┆ GIA    ┆ 3183  │\n",
              "│ 0.91         ┆ Ideal ┆ E     ┆ SI1     ┆ VG     ┆ VG       ┆ GIA    ┆ 4370  │\n",
              "│ 0.83         ┆ Ideal ┆ G     ┆ SI1     ┆ EX     ┆ EX       ┆ GIA    ┆ 3171  │\n",
              "└──────────────┴───────┴───────┴─────────┴────────┴──────────┴────────┴───────┘"
            ],
            "text/html": [
              "<div><style>\n",
              ".dataframe > thead > tr,\n",
              ".dataframe > tbody > tr {\n",
              "  text-align: right;\n",
              "  white-space: pre-wrap;\n",
              "}\n",
              "</style>\n",
              "<small>shape: (5, 8)</small><table border=\"1\" class=\"dataframe\"><thead><tr><th>Carat Weight</th><th>Cut</th><th>Color</th><th>Clarity</th><th>Polish</th><th>Symmetry</th><th>Report</th><th>Price</th></tr><tr><td>f64</td><td>str</td><td>str</td><td>str</td><td>str</td><td>str</td><td>str</td><td>i64</td></tr></thead><tbody><tr><td>1.1</td><td>&quot;Ideal&quot;</td><td>&quot;H&quot;</td><td>&quot;SI1&quot;</td><td>&quot;VG&quot;</td><td>&quot;EX&quot;</td><td>&quot;GIA&quot;</td><td>5169</td></tr><tr><td>0.83</td><td>&quot;Ideal&quot;</td><td>&quot;H&quot;</td><td>&quot;VS1&quot;</td><td>&quot;ID&quot;</td><td>&quot;ID&quot;</td><td>&quot;AGSL&quot;</td><td>3470</td></tr><tr><td>0.85</td><td>&quot;Ideal&quot;</td><td>&quot;H&quot;</td><td>&quot;SI1&quot;</td><td>&quot;EX&quot;</td><td>&quot;EX&quot;</td><td>&quot;GIA&quot;</td><td>3183</td></tr><tr><td>0.91</td><td>&quot;Ideal&quot;</td><td>&quot;E&quot;</td><td>&quot;SI1&quot;</td><td>&quot;VG&quot;</td><td>&quot;VG&quot;</td><td>&quot;GIA&quot;</td><td>4370</td></tr><tr><td>0.83</td><td>&quot;Ideal&quot;</td><td>&quot;G&quot;</td><td>&quot;SI1&quot;</td><td>&quot;EX&quot;</td><td>&quot;EX&quot;</td><td>&quot;GIA&quot;</td><td>3171</td></tr></tbody></table></div>"
            ]
          },
          "metadata": {},
          "execution_count": 26
        }
      ],
      "source": [
        "# Your code here:\n",
        "print(f\"Shape: {df.shape}\")\n",
        "df.head()"
      ]
    },
    {
      "cell_type": "markdown",
      "metadata": {
        "id": "k4VhsHS95Lac"
      },
      "source": [
        "### Question 2: \"What information do we track about each diamond?\"\n",
        "\n",
        "List all the characteristics we record."
      ]
    },
    {
      "cell_type": "code",
      "execution_count": null,
      "metadata": {
        "colab": {
          "base_uri": "https://localhost:8080/"
        },
        "id": "jhznCWoJ5Lac",
        "outputId": "811dfd8f-ca05-4b0d-b156-60081f6de1bf"
      },
      "outputs": [
        {
          "output_type": "stream",
          "name": "stdout",
          "text": [
            "Columns: ['Carat Weight', 'Cut', 'Color', 'Clarity', 'Polish', 'Symmetry', 'Report', 'Price']\n"
          ]
        }
      ],
      "source": [
        "# Your code here:\n",
        "print(f\"Columns: {df.columns}\")"
      ]
    },
    {
      "cell_type": "markdown",
      "metadata": {
        "id": "OluZDnZc5Lad"
      },
      "source": [
        "### Question 3: \"When I look at one line in this database, what am I looking at?\"\n",
        "\n",
        "Explain in business terms:"
      ]
    },
    {
      "cell_type": "markdown",
      "source": [],
      "metadata": {
        "id": "86KTKQ9xCoLP"
      }
    },
    {
      "cell_type": "markdown",
      "metadata": {
        "id": "jfbLvRUz5Lad"
      },
      "source": [
        "**Your answer:** Each row represents:"
      ]
    },
    {
      "cell_type": "markdown",
      "source": [
        "one diamond"
      ],
      "metadata": {
        "id": "L4kfdYoc7NR0"
      }
    },
    {
      "cell_type": "markdown",
      "metadata": {
        "id": "2bn7qrRv5Lad"
      },
      "source": [
        "## Section 2: Strategic Business Questions (20 minutes)\n",
        "\n",
        "The CEO continues: \"Now let's get to the important questions. Our board meeting is tomorrow and I need concrete numbers.\""
      ]
    },
    {
      "cell_type": "markdown",
      "metadata": {
        "id": "Ll9_GPHl5Lad"
      },
      "source": [
        "### Question 4: \"We're considering expanding our storage facilities. How many total carats do we have in inventory? I need to know if our vaults can handle the weight.\"\n",
        "\n",
        "Think about what measurement would help answer this."
      ]
    },
    {
      "cell_type": "code",
      "execution_count": null,
      "metadata": {
        "colab": {
          "base_uri": "https://localhost:8080/"
        },
        "id": "1xVABNgi5Lad",
        "outputId": "31b1c376-0608-4561-c5d9-a8d5f6ebcdfc"
      },
      "outputs": [
        {
          "output_type": "stream",
          "name": "stdout",
          "text": [
            "Total Carats Weight: 8,007.12\n"
          ]
        }
      ],
      "source": [
        "# Your code here:\n",
        "total_carats = df.select(pl.col(\"Carat Weight\").sum())\n",
        "print(f\"Total Carats Weight: {total_carats [0,0]:,.2f}\")"
      ]
    },
    {
      "cell_type": "markdown",
      "metadata": {
        "id": "GbtpP48Q5Lad"
      },
      "source": [
        "### Question 5: \"Our new marketing campaign claims we have 'the widest variety of cuts in the industry.' Can you verify this?\"\n",
        "\n",
        "The CEO wants to know about variety, not quantity."
      ]
    },
    {
      "cell_type": "code",
      "execution_count": null,
      "metadata": {
        "colab": {
          "base_uri": "https://localhost:8080/"
        },
        "id": "pPX1lDAH5Lad",
        "outputId": "690459a5-a203-4d08-aa46-e697497191ff"
      },
      "outputs": [
        {
          "output_type": "stream",
          "name": "stdout",
          "text": [
            "Variety of Cuts: 5.00\n"
          ]
        }
      ],
      "source": [
        "# Your code here:\n",
        "variety_cuts = df.select(pl.col(\"Cut\").n_unique())\n",
        "print(f\"Variety of Cuts: {variety_cuts [0,0]:,.2f}\")"
      ]
    },
    {
      "cell_type": "markdown",
      "metadata": {
        "id": "SOvT7u1q5Lad"
      },
      "source": [
        "### Question 6: \"I'm meeting with our insurance company. They need to know our price exposure - what's our most and least valuable diamond?\""
      ]
    },
    {
      "cell_type": "code",
      "execution_count": null,
      "metadata": {
        "colab": {
          "base_uri": "https://localhost:8080/"
        },
        "id": "fuXoLlfq5Lad",
        "outputId": "32030216-7df7-41d6-cee2-d927eb450aea"
      },
      "outputs": [
        {
          "output_type": "stream",
          "name": "stdout",
          "text": [
            "Most Valuable Diamond: $101,561.00\n",
            "Least Valuable Diamond: $2,184.00\n"
          ]
        }
      ],
      "source": [
        "# Your code here:\n",
        "most_valuable_diamond = df.select((pl.col(\"Price\").max()))\n",
        "print(f\"Most Valuable Diamond: ${most_valuable_diamond [0,0]:,.2f}\")\n",
        "\n",
        "least_valuable_diamond = df.select((pl.col(\"Price\").min()))\n",
        "print(f\"Least Valuable Diamond: ${least_valuable_diamond [0,0]:,.2f}\")\n"
      ]
    },
    {
      "cell_type": "markdown",
      "metadata": {
        "id": "ln-AAXNT5Lae"
      },
      "source": [
        "### Question 7: \"Which color grades should we focus on in our premium line? I need typical prices across our color spectrum.\"\n",
        "\n",
        "The CEO wants to understand pricing patterns."
      ]
    },
    {
      "cell_type": "code",
      "execution_count": 15,
      "metadata": {
        "colab": {
          "base_uri": "https://localhost:8080/",
          "height": 286
        },
        "id": "7BMNV0Zi5Lae",
        "outputId": "733a29c0-695d-4188-fce5-7841874a484c"
      },
      "outputs": [
        {
          "output_type": "display_data",
          "data": {
            "text/plain": [
              "shape: (6, 2)\n",
              "┌───────┬────────┐\n",
              "│ Color ┆ Price  │\n",
              "│ ---   ┆ ---    │\n",
              "│ str   ┆ f64    │\n",
              "╞═══════╪════════╡\n",
              "│ I     ┆ 6655.0 │\n",
              "│ E     ┆ 7059.5 │\n",
              "│ H     ┆ 7169.0 │\n",
              "│ D     ┆ 7567.0 │\n",
              "│ G     ┆ 8800.0 │\n",
              "│ F     ┆ 8860.0 │\n",
              "└───────┴────────┘"
            ],
            "text/html": [
              "<div><style>\n",
              ".dataframe > thead > tr,\n",
              ".dataframe > tbody > tr {\n",
              "  text-align: right;\n",
              "  white-space: pre-wrap;\n",
              "}\n",
              "</style>\n",
              "<small>shape: (6, 2)</small><table border=\"1\" class=\"dataframe\"><thead><tr><th>Color</th><th>Price</th></tr><tr><td>str</td><td>f64</td></tr></thead><tbody><tr><td>&quot;I&quot;</td><td>6655.0</td></tr><tr><td>&quot;E&quot;</td><td>7059.5</td></tr><tr><td>&quot;H&quot;</td><td>7169.0</td></tr><tr><td>&quot;D&quot;</td><td>7567.0</td></tr><tr><td>&quot;G&quot;</td><td>8800.0</td></tr><tr><td>&quot;F&quot;</td><td>8860.0</td></tr></tbody></table></div>"
            ]
          },
          "metadata": {}
        }
      ],
      "source": [
        "# Your code here:\n",
        "average_price_by_color = df.group_by('Color').agg(pl.col('Price').median()).sort('Price')\n",
        "display(average_price_by_color)"
      ]
    },
    {
      "cell_type": "markdown",
      "metadata": {
        "id": "Ev8wthZG5Lae"
      },
      "source": [
        "**Reflection:** After analyzing by color, how has your view of the data changed? What does each row in your result represent now?"
      ]
    },
    {
      "cell_type": "markdown",
      "metadata": {
        "id": "yFeN5Bur5Lae"
      },
      "source": [
        "**Your answer:** New grain = One color grade"
      ]
    },
    {
      "cell_type": "markdown",
      "metadata": {
        "id": "KnW6m_pg5Lae"
      },
      "source": [
        "## Section 3: Advanced Strategic Analysis (10 minutes)\n",
        "\n",
        "The CEO leans forward: \"These next questions will shape our strategy for next year.\""
      ]
    },
    {
      "cell_type": "markdown",
      "metadata": {
        "id": "Bq4WFCVk5Lae"
      },
      "source": [
        "### Question 8: \"We're thinking of specializing in certain clarity grades. For our investor deck, I need a complete breakdown showing: how many diamonds we have in each clarity grade, their typical price, and the total carats we're holding for each grade.\""
      ]
    },
    {
      "cell_type": "code",
      "execution_count": 8,
      "metadata": {
        "colab": {
          "base_uri": "https://localhost:8080/",
          "height": 318
        },
        "id": "8X-Ty4sR5Lae",
        "outputId": "fedc327f-52a1-4dad-be42-108629b6f38a"
      },
      "outputs": [
        {
          "output_type": "display_data",
          "data": {
            "text/plain": [
              "shape: (7, 4)\n",
              "┌─────────┬───────────────┬───────────────┬────────────────────┐\n",
              "│ Clarity ┆ Diamond Count ┆ Typical Price ┆ Total Carat Weight │\n",
              "│ ---     ┆ ---           ┆ ---           ┆ ---                │\n",
              "│ str     ┆ u32           ┆ f64           ┆ f64                │\n",
              "╞═════════╪═══════════════╪═══════════════╪════════════════════╡\n",
              "│ FL      ┆ 4             ┆ 62371.5       ┆ 7.87               │\n",
              "│ IF      ┆ 219           ┆ 12647.0       ┆ 316.0              │\n",
              "│ VVS1    ┆ 285           ┆ 11142.0       ┆ 389.43             │\n",
              "│ VVS2    ┆ 666           ┆ 10266.0       ┆ 876.58             │\n",
              "│ VS1     ┆ 1192          ┆ 9245.0        ┆ 1682.74            │\n",
              "│ VS2     ┆ 1575          ┆ 7568.0        ┆ 2170.81            │\n",
              "│ SI1     ┆ 2059          ┆ 5417.0        ┆ 2563.69            │\n",
              "└─────────┴───────────────┴───────────────┴────────────────────┘"
            ],
            "text/html": [
              "<div><style>\n",
              ".dataframe > thead > tr,\n",
              ".dataframe > tbody > tr {\n",
              "  text-align: right;\n",
              "  white-space: pre-wrap;\n",
              "}\n",
              "</style>\n",
              "<small>shape: (7, 4)</small><table border=\"1\" class=\"dataframe\"><thead><tr><th>Clarity</th><th>Diamond Count</th><th>Typical Price</th><th>Total Carat Weight</th></tr><tr><td>str</td><td>u32</td><td>f64</td><td>f64</td></tr></thead><tbody><tr><td>&quot;FL&quot;</td><td>4</td><td>62371.5</td><td>7.87</td></tr><tr><td>&quot;IF&quot;</td><td>219</td><td>12647.0</td><td>316.0</td></tr><tr><td>&quot;VVS1&quot;</td><td>285</td><td>11142.0</td><td>389.43</td></tr><tr><td>&quot;VVS2&quot;</td><td>666</td><td>10266.0</td><td>876.58</td></tr><tr><td>&quot;VS1&quot;</td><td>1192</td><td>9245.0</td><td>1682.74</td></tr><tr><td>&quot;VS2&quot;</td><td>1575</td><td>7568.0</td><td>2170.81</td></tr><tr><td>&quot;SI1&quot;</td><td>2059</td><td>5417.0</td><td>2563.69</td></tr></tbody></table></div>"
            ]
          },
          "metadata": {}
        }
      ],
      "source": [
        "# Your code here:\n",
        "clarity_summary = df.group_by(\"Clarity\").agg([\n",
        "          pl.len().alias(\"Diamond Count\"),\n",
        "          pl.col(\"Price\").median().alias(\"Typical Price\"),\n",
        "          pl.col(\"Carat Weight\").sum().alias(\"Total Carat Weight\")]).sort(\"Diamond Count\")\n",
        "\n",
        "display(clarity_summary)"
      ]
    },
    {
      "cell_type": "markdown",
      "metadata": {
        "id": "2ubrIE4u5Lae"
      },
      "source": [
        "### Question 9: \"My luxury competitor claims they have the best prices for every cut-color combination. Show me our pricing structure across these combinations - I want to see where we're competitive.\""
      ]
    },
    {
      "cell_type": "code",
      "execution_count": 13,
      "metadata": {
        "colab": {
          "base_uri": "https://localhost:8080/",
          "height": 443
        },
        "id": "iaSxAu8h5Lae",
        "outputId": "3592de2b-06a4-4900-f971-093670513910"
      },
      "outputs": [
        {
          "output_type": "display_data",
          "data": {
            "text/plain": [
              "shape: (30, 3)\n",
              "┌─────────────────┬───────┬──────────────┐\n",
              "│ Cut             ┆ Color ┆ Mean Price   │\n",
              "│ ---             ┆ ---   ┆ ---          │\n",
              "│ str             ┆ str   ┆ f64          │\n",
              "╞═════════════════╪═══════╪══════════════╡\n",
              "│ Fair            ┆ I     ┆ 4573.1875    │\n",
              "│ Fair            ┆ E     ┆ 5370.625     │\n",
              "│ Fair            ┆ H     ┆ 5908.5       │\n",
              "│ Fair            ┆ D     ┆ 6058.25      │\n",
              "│ Fair            ┆ F     ┆ 6063.625     │\n",
              "│ …               ┆ …     ┆ …            │\n",
              "│ Signature-Ideal ┆ F     ┆ 13247.947368 │\n",
              "│ Ideal           ┆ G     ┆ 13570.310145 │\n",
              "│ Ideal           ┆ F     ┆ 14729.426997 │\n",
              "│ Ideal           ┆ D     ┆ 18461.953571 │\n",
              "│ Signature-Ideal ┆ D     ┆ 19823.1      │\n",
              "└─────────────────┴───────┴──────────────┘"
            ],
            "text/html": [
              "<div><style>\n",
              ".dataframe > thead > tr,\n",
              ".dataframe > tbody > tr {\n",
              "  text-align: right;\n",
              "  white-space: pre-wrap;\n",
              "}\n",
              "</style>\n",
              "<small>shape: (30, 3)</small><table border=\"1\" class=\"dataframe\"><thead><tr><th>Cut</th><th>Color</th><th>Mean Price</th></tr><tr><td>str</td><td>str</td><td>f64</td></tr></thead><tbody><tr><td>&quot;Fair&quot;</td><td>&quot;I&quot;</td><td>4573.1875</td></tr><tr><td>&quot;Fair&quot;</td><td>&quot;E&quot;</td><td>5370.625</td></tr><tr><td>&quot;Fair&quot;</td><td>&quot;H&quot;</td><td>5908.5</td></tr><tr><td>&quot;Fair&quot;</td><td>&quot;D&quot;</td><td>6058.25</td></tr><tr><td>&quot;Fair&quot;</td><td>&quot;F&quot;</td><td>6063.625</td></tr><tr><td>&hellip;</td><td>&hellip;</td><td>&hellip;</td></tr><tr><td>&quot;Signature-Ideal&quot;</td><td>&quot;F&quot;</td><td>13247.947368</td></tr><tr><td>&quot;Ideal&quot;</td><td>&quot;G&quot;</td><td>13570.310145</td></tr><tr><td>&quot;Ideal&quot;</td><td>&quot;F&quot;</td><td>14729.426997</td></tr><tr><td>&quot;Ideal&quot;</td><td>&quot;D&quot;</td><td>18461.953571</td></tr><tr><td>&quot;Signature-Ideal&quot;</td><td>&quot;D&quot;</td><td>19823.1</td></tr></tbody></table></div>"
            ]
          },
          "metadata": {}
        }
      ],
      "source": [
        "# Your code here:\n",
        "pricing_structure = df.group_by([\"Cut\",\"Color\"]).agg(pl.col(\"Price\").mean().alias(\"Mean Price\")).sort(\"Mean Price\")\n",
        "display(pricing_structure)\n"
      ]
    },
    {
      "cell_type": "markdown",
      "metadata": {
        "id": "JM5NJoHP5Lae"
      },
      "source": [
        "**Reflection:** How specific is your analysis now? What level of detail does each row represent?"
      ]
    },
    {
      "cell_type": "markdown",
      "metadata": {
        "id": "Gumm64Go5Lae"
      },
      "source": [
        "**Your answer:** New grain = Mean price for each cut-color combination"
      ]
    },
    {
      "cell_type": "markdown",
      "metadata": {
        "id": "STMOkfDq5Lae"
      },
      "source": [
        "### Question 10: URGENT - \"Our biggest client is interested in purchasing entire inventory segments. They asked: 'Which color-cut combinations represent your highest total inventory value?' Show me the top 5 most valuable inventory segments by total worth, and include how many diamonds are in each segment.\"\n",
        "\n",
        "This is critical for tomorrow's negotiation."
      ]
    },
    {
      "cell_type": "code",
      "execution_count": 17,
      "metadata": {
        "colab": {
          "base_uri": "https://localhost:8080/",
          "height": 255
        },
        "id": "nDvmwvt45Laf",
        "outputId": "73e1240e-8a8c-4117-b638-f49c9c8c4283"
      },
      "outputs": [
        {
          "output_type": "display_data",
          "data": {
            "text/plain": [
              "shape: (5, 4)\n",
              "┌───────┬───────────┬─────────────┬───────────────┐\n",
              "│ Color ┆ Cut       ┆ Total Value ┆ Diamond Count │\n",
              "│ ---   ┆ ---       ┆ ---         ┆ ---           │\n",
              "│ str   ┆ str       ┆ i64         ┆ u32           │\n",
              "╞═══════╪═══════════╪═════════════╪═══════════════╡\n",
              "│ G     ┆ Ideal     ┆ 9363514     ┆ 690           │\n",
              "│ G     ┆ Very Good ┆ 7140620     ┆ 578           │\n",
              "│ F     ┆ Very Good ┆ 5648327     ┆ 455           │\n",
              "│ F     ┆ Ideal     ┆ 5346782     ┆ 363           │\n",
              "│ H     ┆ Ideal     ┆ 5279687     ┆ 458           │\n",
              "└───────┴───────────┴─────────────┴───────────────┘"
            ],
            "text/html": [
              "<div><style>\n",
              ".dataframe > thead > tr,\n",
              ".dataframe > tbody > tr {\n",
              "  text-align: right;\n",
              "  white-space: pre-wrap;\n",
              "}\n",
              "</style>\n",
              "<small>shape: (5, 4)</small><table border=\"1\" class=\"dataframe\"><thead><tr><th>Color</th><th>Cut</th><th>Total Value</th><th>Diamond Count</th></tr><tr><td>str</td><td>str</td><td>i64</td><td>u32</td></tr></thead><tbody><tr><td>&quot;G&quot;</td><td>&quot;Ideal&quot;</td><td>9363514</td><td>690</td></tr><tr><td>&quot;G&quot;</td><td>&quot;Very Good&quot;</td><td>7140620</td><td>578</td></tr><tr><td>&quot;F&quot;</td><td>&quot;Very Good&quot;</td><td>5648327</td><td>455</td></tr><tr><td>&quot;F&quot;</td><td>&quot;Ideal&quot;</td><td>5346782</td><td>363</td></tr><tr><td>&quot;H&quot;</td><td>&quot;Ideal&quot;</td><td>5279687</td><td>458</td></tr></tbody></table></div>"
            ]
          },
          "metadata": {}
        }
      ],
      "source": [
        "# Your code here:\n",
        "top5_segments = (\n",
        "    df.group_by([\"Color\", \"Cut\"])\n",
        "      .agg([\n",
        "          pl.col(\"Price\").sum().alias(\"Total Value\"),\n",
        "          pl.len().alias(\"Diamond Count\")\n",
        "      ])\n",
        "      .sort(\"Total Value\", descending=True)\n",
        "      .head(5)\n",
        ")\n",
        "\n",
        "display(top5_segments)"
      ]
    },
    {
      "cell_type": "markdown",
      "metadata": {
        "id": "CZsLN1jY5Laf"
      },
      "source": [
        "## Debrief\n",
        "\n",
        "Congratulations! You've just completed your first day as the diamond company's data analyst.\n",
        "\n",
        "Remember:\n",
        "- CEOs speak in business language, not technical terms\n",
        "- Always understand what each row represents before analyzing\n",
        "- Business questions contain clues about which operations to use"
      ]
    }
  ],
  "metadata": {
    "kernelspec": {
      "display_name": "Python 3",
      "language": "python",
      "name": "python3"
    },
    "language_info": {
      "codemirror_mode": {
        "name": "ipython",
        "version": 3
      },
      "file_extension": ".py",
      "mimetype": "text/x-python",
      "name": "python",
      "nbconvert_exporter": "python",
      "pygments_lexer": "ipython3",
      "version": "3.12.0"
    },
    "colab": {
      "provenance": []
    }
  },
  "nbformat": 4,
  "nbformat_minor": 0
}